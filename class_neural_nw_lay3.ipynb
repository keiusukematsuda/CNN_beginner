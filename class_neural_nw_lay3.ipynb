{
 "cells": [
  {
   "cell_type": "code",
   "execution_count": 4,
   "metadata": {
    "collapsed": true
   },
   "outputs": [],
   "source": [
    "import numpy as np\n",
    "import matplotlib.pyplot as plt"
   ]
  },
  {
   "cell_type": "code",
   "execution_count": 5,
   "metadata": {
    "collapsed": false
   },
   "outputs": [],
   "source": [
    "def midle_layer(x,w,b):\n",
    "    u = np.dot(x, w) + b\n",
    "    return 1/(1+np.exp(-u))\n",
    "\n",
    "def output_layer(x,w,b):\n",
    "    u = np.dot(x, w) + b\n",
    "    return np.exp(u)/np.sum(np.exp(u))"
   ]
  },
  {
   "cell_type": "code",
   "execution_count": 20,
   "metadata": {
    "collapsed": false
   },
   "outputs": [],
   "source": [
    "def main():\n",
    "    \"\"\"2x2x1のニューラルネットワーク\n",
    "\n",
    "    \"\"\"\n",
    "    #x,y座標\n",
    "    X = np.arange(-1.0, 1.0, 0.1)\n",
    "    Y = np.arange(-1.0, 1.0, 0.1)\n",
    "        \n",
    "    #重み\n",
    "    w_im = np.array([[1.0,2.0],\n",
    "                     [2.0,3.0]])\n",
    "    \n",
    "    w_mo = np.array([[-1.0,1.0],\n",
    "                    [1.0,-1.0]])\n",
    "    \n",
    "    #バイアス\n",
    "    b_im = np.array([0.3,-0.3])\n",
    "    b_mo = np.array([0.4,0.1])\n",
    "    \n",
    "    \n",
    "    #分類結果を格納するリスト\n",
    "    x_1 = []\n",
    "    y_1 = []\n",
    "    x_2 = []\n",
    "    y_2 = []\n",
    "    \n",
    "    #ニューラルネットワークの演算\n",
    "    for i in range(20):\n",
    "        for j in range(20):\n",
    "            inp = np.array([X[i],Y[j]])\n",
    "            mid = midle_layer(inp,w_im, b_im)\n",
    "            out = output_layer(mid,w_mo, b_mo)\n",
    "            \n",
    "            #確率の大小を比較する\n",
    "            if out[0] > out[1]:\n",
    "                x_1.append(X[i])\n",
    "                y_1.append(X[j])\n",
    "            else:\n",
    "                x_2.append(X[i])\n",
    "                y_2.append(X[j])\n",
    "                \n",
    "    plt.scatter(x_1, y_1, marker=\"+\")\n",
    "    plt.scatter(x_2, y_2, marker=\"o\")\n",
    "    plt.show()"
   ]
  },
  {
   "cell_type": "code",
   "execution_count": 21,
   "metadata": {
    "collapsed": false
   },
   "outputs": [
    {
     "data": {
      "image/png": "[encoded data removed]",
      "text/plain": [
       "<matplotlib.figure.Figure at 0x7fdfda246e10>"
      ]
     },
     "metadata": {},
     "output_type": "display_data"
    }
   ],
   "source": [
    "main()"
   ]
  }
 ],
 "metadata": {
  "kernelspec": {
   "display_name": "Python 3",
   "language": "python",
   "name": "python3"
  },
  "language_info": {
   "codemirror_mode": {
    "name": "ipython",
    "version": 3
   },
   "file_extension": ".py",
   "mimetype": "text/x-python",
   "name": "python",
   "nbconvert_exporter": "python",
   "pygments_lexer": "ipython3",
   "version": "3.6.0"
  }
 },
 "nbformat": 4,
 "nbformat_minor": 2
}
