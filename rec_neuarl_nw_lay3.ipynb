{
 "cells": [
  {
   "cell_type": "code",
   "execution_count": 79,
   "metadata": {
    "collapsed": true
   },
   "outputs": [],
   "source": [
    "import numpy as np\n",
    "import matplotlib.pyplot as plt"
   ]
  },
  {
   "cell_type": "code",
   "execution_count": 108,
   "metadata": {
    "collapsed": false
   },
   "outputs": [],
   "source": [
    "def midle_layer(x,w,b):\n",
    "    u = np.dot(x, w) + b\n",
    "    return 1/(1+np.exp(-u))\n",
    "\n",
    "def output_layer(x,w,b):\n",
    "    u = np.dot(x, w) + b\n",
    "    return u"
   ]
  },
  {
   "cell_type": "code",
   "execution_count": 131,
   "metadata": {
    "collapsed": false
   },
   "outputs": [],
   "source": [
    "def main():\n",
    "    \"\"\"2x2x1のニューラルネットワーク\n",
    "\n",
    "    \"\"\"\n",
    "    #x,y座標\n",
    "    X = np.arange(-1.0, 1.0, 0.2)\n",
    "    Y = np.arange(-1.0, 1.0, 0.2)\n",
    "    \n",
    "    #出力を格納する10x10のグリッド\n",
    "    Z = np.zeros((10,10))\n",
    "    \n",
    "    #重み\n",
    "    w_im = np.array([[4.0,4.0],\n",
    "                     [4.0,4.0]])\n",
    "    \n",
    "    w_mo = np.array([[1.0],\n",
    "                    [-1.0]])\n",
    "    \n",
    "    #バイアス\n",
    "    b_im = np.array([3.0,1.0])\n",
    "    b_mo = np.array([0])\n",
    "        \n",
    "    #ニューラルネットワークの演算\n",
    "    for i in range(10):\n",
    "        for j in range(10):\n",
    "            inp = np.array([X[i],Y[j]])\n",
    "            mid = midle_layer(inp,w_im, b_im)\n",
    "            out = output_layer(mid,w_mo, b_mo)\n",
    "            \n",
    "            Z[j][i] = out[0]\n",
    "    \n",
    "    plt.imshow(Z, \"gray\", vmin = 0.0, vmax = 1.0)\n",
    "    plt.colorbar()\n",
    "    plt.show()"
   ]
  },
  {
   "cell_type": "code",
   "execution_count": 132,
   "metadata": {
    "collapsed": false
   },
   "outputs": [
    {
     "data": {
      "image/png": "[encoded data removed]",
      "text/plain": [
       "<matplotlib.figure.Figure at 0x7ff0030af240>"
      ]
     },
     "metadata": {},
     "output_type": "display_data"
    }
   ],
   "source": [
    "main()"
   ]
  },
  {
   "cell_type": "code",
   "execution_count": null,
   "metadata": {
    "collapsed": true
   },
   "outputs": [],
   "source": []
  },
  {
   "cell_type": "code",
   "execution_count": null,
   "metadata": {
    "collapsed": true
   },
   "outputs": [],
   "source": []
  },
  {
   "cell_type": "code",
   "execution_count": null,
   "metadata": {
    "collapsed": true
   },
   "outputs": [],
   "source": []
  }
 ],
 "metadata": {
  "kernelspec": {
   "display_name": "Python 3",
   "language": "python",
   "name": "python3"
  },
  "language_info": {
   "codemirror_mode": {
    "name": "ipython",
    "version": 3
   },
   "file_extension": ".py",
   "mimetype": "text/x-python",
   "name": "python",
   "nbconvert_exporter": "python",
   "pygments_lexer": "ipython3",
   "version": "3.6.0"
  }
 },
 "nbformat": 4,
 "nbformat_minor": 2
}
