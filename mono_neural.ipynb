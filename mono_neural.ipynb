{
 "cells": [
  {
   "cell_type": "code",
   "execution_count": 13,
   "metadata": {
    "collapsed": true
   },
   "outputs": [],
   "source": [
    "import numpy as np\n",
    "import matplotlib.pyplot as plt"
   ]
  },
  {
   "cell_type": "code",
   "execution_count": 70,
   "metadata": {
    "collapsed": false
   },
   "outputs": [
    {
     "data": {
      "image/png": "[encoded data removed]",
      "text/plain": [
       "<matplotlib.figure.Figure at 0x7f0305b22630>"
      ]
     },
     "metadata": {},
     "output_type": "display_data"
    }
   ],
   "source": [
    "class Nueral_Network():\n",
    "    #x,y座標および出力格納用のグリッドデータ\n",
    "    X = np.arange(-10.0,10.0,0.1)\n",
    "    Y = np.arange(-10.0,10.0,0.1)\n",
    "    Z = np.zeros((10,10))\n",
    "    \n",
    "    #ハイパーパラメータ\n",
    "    w_x = 1.3\n",
    "    w_y = 1.4\n",
    "    bias = 25\n",
    "    \n",
    "    #活性化関数クラスのインスタンス化\n",
    "    act_func = ActFunc()\n",
    "    \n",
    "    #10 x 10 のグリッド各マスでニューロンの演算\n",
    "    for i in range(10):\n",
    "        for j in range(10):\n",
    "            \n",
    "            #重みと入力の積の総和 + バイアス \n",
    "            u = X[i]*w_x + Y[j]*w_y + bias\n",
    "            Z[i][j] = act_func.sigmoid(u) \n",
    "    \n",
    "    #グリッドの表示\n",
    "    plt.imshow(Z, \"gray\", vmin= 0.0, vmax = 1.0)\n",
    "    plt.colorbar()\n",
    "    plt.show()"
   ]
  },
  {
   "cell_type": "code",
   "execution_count": null,
   "metadata": {
    "collapsed": true
   },
   "outputs": [],
   "source": []
  },
  {
   "cell_type": "code",
   "execution_count": 46,
   "metadata": {
    "collapsed": false
   },
   "outputs": [],
   "source": [
    "class ActFunc(): \n",
    "    \"\"\"活性化関数のクラス\n",
    "    \n",
    "    \"\"\"\n",
    "    \n",
    "    def __init__(self):\n",
    "        X = 0\n",
    "    \n",
    "    def step(self,x):\n",
    "        X = x\n",
    "        return np.where(x <= 0, 0, 1)\n",
    "    \n",
    "    def sigmoid(self,x):\n",
    "        X = x\n",
    "        return 1 / ( 1 + np.exp(-X))\n",
    "    \n",
    "    def tanh(self,x):\n",
    "        X = x\n",
    "        return np.tanh(X)\n",
    "    \n",
    "    def reru(self,x):\n",
    "        X = x\n",
    "        return np.where(X <= 0, 0, X)\n",
    "    \n",
    "    def lealyreru(self,x):\n",
    "        X = x\n",
    "        return np.where(X <= 0, 0.01*X, X)\n",
    "    \n",
    "    def identity(self,x):\n",
    "        X = x\n",
    "        return X\n",
    "    \n",
    "    def softmax(self,x):\n",
    "        X = x\n",
    "        return np.exp(X)/np.sum(np.exp(X))"
   ]
  },
  {
   "cell_type": "code",
   "execution_count": null,
   "metadata": {
    "collapsed": true
   },
   "outputs": [],
   "source": []
  }
 ],
 "metadata": {
  "kernelspec": {
   "display_name": "Python 3",
   "language": "python",
   "name": "python3"
  },
  "language_info": {
   "codemirror_mode": {
    "name": "ipython",
    "version": 3
   },
   "file_extension": ".py",
   "mimetype": "text/x-python",
   "name": "python",
   "nbconvert_exporter": "python",
   "pygments_lexer": "ipython3",
   "version": "3.6.0"
  }
 },
 "nbformat": 4,
 "nbformat_minor": 2
}
